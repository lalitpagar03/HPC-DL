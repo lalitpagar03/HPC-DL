{
 "cells": [
  {
   "cell_type": "code",
   "execution_count": 2,
   "id": "c229cb59-a077-4bc1-b62b-abc0d8ec65ac",
   "metadata": {},
   "outputs": [],
   "source": [
    "import numpy as np\n",
    "import tensorflow as tf\n",
    "from tensorflow.keras.datasets import fashion_mnist\n",
    "from tensorflow.keras.models import Sequential\n",
    "from tensorflow.keras.layers import Dense, Flatten, Dropout\n",
    "from tensorflow.keras.utils import to_categorical\n",
    "import matplotlib.pyplot as plt\n",
    "\n",
    "\n"
   ]
  },
  {
   "cell_type": "code",
   "execution_count": 3,
   "id": "895506d2-7128-4e08-b6ac-f0e561201192",
   "metadata": {},
   "outputs": [],
   "source": [
    "(X_train, y_train), (X_test, y_test) = fashion_mnist.load_data()"
   ]
  },
  {
   "cell_type": "code",
   "execution_count": 4,
   "id": "780b0197-2be3-49c8-83c7-e1ae07667d3c",
   "metadata": {},
   "outputs": [
    {
     "name": "stdout",
     "output_type": "stream",
     "text": [
      "Training data shape: (60000, 28, 28)\n",
      "Training labels shape: (60000,)\n",
      "Test data shape: (10000, 28, 28)\n",
      "Test labels shape: (10000,)\n"
     ]
    }
   ],
   "source": [
    "print(\"Training data shape:\", X_train.shape)\n",
    "print(\"Training labels shape:\", y_train.shape)\n",
    "print(\"Test data shape:\", X_test.shape)\n",
    "print(\"Test labels shape:\", y_test.shape)\n",
    "     "
   ]
  },
  {
   "cell_type": "code",
   "execution_count": 1,
   "id": "22a0def6-ebcf-45ab-be1b-14b45a384830",
   "metadata": {},
   "outputs": [
    {
     "ename": "NameError",
     "evalue": "name 'X_train' is not defined",
     "output_type": "error",
     "traceback": [
      "\u001b[0;31m---------------------------------------------------------------------------\u001b[0m",
      "\u001b[0;31mNameError\u001b[0m                                 Traceback (most recent call last)",
      "Cell \u001b[0;32mIn[1], line 21\u001b[0m\n\u001b[1;32m     19\u001b[0m \u001b[38;5;28;01mfor\u001b[39;00m i \u001b[38;5;129;01min\u001b[39;00m \u001b[38;5;28mrange\u001b[39m(\u001b[38;5;241m25\u001b[39m):  \u001b[38;5;66;03m# Change this number to display more or fewer images\u001b[39;00m\n\u001b[1;32m     20\u001b[0m     plt\u001b[38;5;241m.\u001b[39msubplot(\u001b[38;5;241m5\u001b[39m, \u001b[38;5;241m5\u001b[39m, i \u001b[38;5;241m+\u001b[39m \u001b[38;5;241m1\u001b[39m)\n\u001b[0;32m---> 21\u001b[0m     plt\u001b[38;5;241m.\u001b[39mimshow(X_train[i], cmap\u001b[38;5;241m=\u001b[39m\u001b[38;5;124m'\u001b[39m\u001b[38;5;124mgrey\u001b[39m\u001b[38;5;124m'\u001b[39m)  \u001b[38;5;66;03m# Displaying grayscale images\u001b[39;00m\n\u001b[1;32m     22\u001b[0m     plt\u001b[38;5;241m.\u001b[39mtitle(class_labels[y_train[i]])\n\u001b[1;32m     23\u001b[0m     plt\u001b[38;5;241m.\u001b[39maxis(\u001b[38;5;124m'\u001b[39m\u001b[38;5;124moff\u001b[39m\u001b[38;5;124m'\u001b[39m)\n",
      "\u001b[0;31mNameError\u001b[0m: name 'X_train' is not defined"
     ]
    },
    {
     "data": {
      "image/png": "[encoded data removed]",
      "text/plain": [
       "<Figure size 1000x1000 with 1 Axes>"
      ]
     },
     "metadata": {},
     "output_type": "display_data"
    }
   ],
   "source": [
    "import matplotlib.pyplot as plt\n",
    "\n",
    "# Define class labels for Fashion MNIST\n",
    "class_labels = {\n",
    "    0: 'T-shirt/top',\n",
    "    1: 'Trouser',\n",
    "    2: 'Pullover',\n",
    "    3: 'Dress',\n",
    "    4: 'Coat',\n",
    "    5: 'Sandal',\n",
    "    6: 'Shirt',\n",
    "    7: 'Sneaker',\n",
    "    8: 'Bag',\n",
    "    9: 'Ankle boot'\n",
    "}\n",
    "\n",
    "# Display a few images along with their labels\n",
    "plt.figure(figsize=(10, 10))\n",
    "for i in range(25):  # Change this number to display more or fewer images\n",
    "    plt.subplot(5, 5, i + 1)\n",
    "    plt.imshow(X_train[i], cmap='grey')  # Displaying grayscale images\n",
    "    plt.title(class_labels[y_train[i]])\n",
    "    plt.axis('off')\n",
    "plt.show()\n"
   ]
  },
  {
   "cell_type": "code",
   "execution_count": 19,
   "id": "a3cb4b26-9729-483f-b74e-9af09c978337",
   "metadata": {},
   "outputs": [],
   "source": [
    "from tensorflow.keras.models import Sequential\n",
    "from tensorflow.keras.layers import Dense, Flatten, MaxPooling2D, Conv2D"
   ]
  },
  {
   "cell_type": "code",
   "execution_count": 20,
   "id": "d8196a0b-83ad-49f1-9302-a727bc9dc01d",
   "metadata": {},
   "outputs": [],
   "source": [
    "model = Sequential()"
   ]
  },
  {
   "cell_type": "code",
   "execution_count": 21,
   "id": "e3530e80-fe7b-4d13-8c66-218536720744",
   "metadata": {},
   "outputs": [],
   "source": [
    "model.add(Conv2D(filters=64,kernel_size=(3,3),activation='relu',input_shape=(28, 28, 1)))\n",
    "\n",
    "# Adding maxpooling layer to get max value within a matrix\n",
    "model.add(MaxPooling2D(pool_size=(2,2)))\n",
    "\n",
    "model.add(Flatten())\n",
    "model.add(Dense(128, activation = \"relu\"))\n",
    "model.add(Dense(10, activation = \"softmax\"))\n",
    "     "
   ]
  },
  {
   "cell_type": "code",
   "execution_count": 22,
   "id": "0fb3a258-dffe-4674-9a5e-93d7464eeece",
   "metadata": {},
   "outputs": [
    {
     "data": {
      "text/plain": [
       "<keras.engine.sequential.Sequential at 0x307b9ef50>"
      ]
     },
     "execution_count": 22,
     "metadata": {},
     "output_type": "execute_result"
    }
   ],
   "source": [
    "model"
   ]
  },
  {
   "cell_type": "code",
   "execution_count": 23,
   "id": "719aff8b-5224-4688-9623-b87d65fb1ee1",
   "metadata": {},
   "outputs": [
    {
     "name": "stdout",
     "output_type": "stream",
     "text": [
      "Model: \"sequential\"\n",
      "_________________________________________________________________\n",
      " Layer (type)                Output Shape              Param #   \n",
      "=================================================================\n",
      " conv2d (Conv2D)             (None, 26, 26, 64)        640       \n",
      "                                                                 \n",
      " max_pooling2d (MaxPooling2D  (None, 13, 13, 64)       0         \n",
      " )                                                               \n",
      "                                                                 \n",
      " flatten (Flatten)           (None, 10816)             0         \n",
      "                                                                 \n",
      " dense (Dense)               (None, 128)               1384576   \n",
      "                                                                 \n",
      " dense_1 (Dense)             (None, 10)                1290      \n",
      "                                                                 \n",
      "=================================================================\n",
      "Total params: 1,386,506\n",
      "Trainable params: 1,386,506\n",
      "Non-trainable params: 0\n",
      "_________________________________________________________________\n"
     ]
    }
   ],
   "source": [
    "model.summary()"
   ]
  },
  {
   "cell_type": "code",
   "execution_count": 24,
   "id": "0a2c26ab-0d84-4db6-9326-a90412b92148",
   "metadata": {},
   "outputs": [],
   "source": [
    "model.compile(optimizer = 'adam', loss = 'sparse_categorical_crossentropy', metrics = ['accuracy'])"
   ]
  },
  {
   "cell_type": "code",
   "execution_count": 26,
   "id": "0b274a6c-e95e-4911-8b75-54c7f549af77",
   "metadata": {},
   "outputs": [
    {
     "name": "stdout",
     "output_type": "stream",
     "text": [
      "Epoch 1/5\n"
     ]
    },
    {
     "name": "stderr",
     "output_type": "stream",
     "text": [
      "2024-04-22 18:03:05.595157: W tensorflow/tsl/platform/profile_utils/cpu_utils.cc:128] Failed to get CPU frequency: 0 Hz\n"
     ]
    },
    {
     "name": "stdout",
     "output_type": "stream",
     "text": [
      "1500/1500 [==============================] - 16s 10ms/step - loss: 0.9375 - accuracy: 0.8514 - val_loss: 0.3225 - val_accuracy: 0.8875\n",
      "Epoch 2/5\n",
      "1500/1500 [==============================] - 18s 12ms/step - loss: 0.2797 - accuracy: 0.8981 - val_loss: 0.3039 - val_accuracy: 0.8923\n",
      "Epoch 3/5\n",
      "1500/1500 [==============================] - 19s 13ms/step - loss: 0.2385 - accuracy: 0.9116 - val_loss: 0.3039 - val_accuracy: 0.8956\n",
      "Epoch 4/5\n",
      "1500/1500 [==============================] - 20s 13ms/step - loss: 0.2191 - accuracy: 0.9204 - val_loss: 0.3640 - val_accuracy: 0.8867\n",
      "Epoch 5/5\n",
      "1500/1500 [==============================] - 17s 12ms/step - loss: 0.1988 - accuracy: 0.9243 - val_loss: 0.3480 - val_accuracy: 0.8891\n"
     ]
    },
    {
     "data": {
      "text/plain": [
       "<keras.callbacks.History at 0x30a96c750>"
      ]
     },
     "execution_count": 26,
     "metadata": {},
     "output_type": "execute_result"
    }
   ],
   "source": [
    "\n",
    "(train_x, train_y), (test_x, test_y) = fashion_mnist.load_data()\n",
    "model.fit(train_x.astype(np.float32), train_y.astype(np.float32), epochs = 5, validation_split = 0.2)\n",
    "     "
   ]
  },
  {
   "cell_type": "code",
   "execution_count": 27,
   "id": "3df77d45-a139-46b3-b1a5-728525134a63",
   "metadata": {},
   "outputs": [
    {
     "name": "stdout",
     "output_type": "stream",
     "text": [
      "313/313 [==============================] - 1s 3ms/step - loss: 0.3708 - accuracy: 0.8820\n",
      "Test Accuracy: 0.8820000290870667\n"
     ]
    }
   ],
   "source": [
    "test_loss, test_accuracy = model.evaluate(X_test, y_test)\n",
    "print(f\"Test Accuracy: {test_accuracy}\")\n",
    "\n",
    "     "
   ]
  },
  {
   "cell_type": "code",
   "execution_count": 33,
   "id": "cdf8eb4a-0784-4e66-a97c-856c84d8c188",
   "metadata": {},
   "outputs": [
    {
     "name": "stdout",
     "output_type": "stream",
     "text": [
      "Epoch 1/10\n",
      "375/375 [==============================] - 12s 31ms/step - loss: 0.0545 - accuracy: 0.9804 - val_loss: 0.6035 - val_accuracy: 0.8961\n",
      "Epoch 2/10\n",
      "375/375 [==============================] - 11s 30ms/step - loss: 0.0456 - accuracy: 0.9834 - val_loss: 0.6146 - val_accuracy: 0.8990\n",
      "Epoch 3/10\n",
      "375/375 [==============================] - 11s 30ms/step - loss: 0.0445 - accuracy: 0.9842 - val_loss: 0.6669 - val_accuracy: 0.8939\n",
      "Epoch 4/10\n",
      "375/375 [==============================] - 11s 30ms/step - loss: 0.0428 - accuracy: 0.9851 - val_loss: 0.7357 - val_accuracy: 0.8884\n",
      "Epoch 5/10\n",
      "375/375 [==============================] - 11s 30ms/step - loss: 0.0457 - accuracy: 0.9834 - val_loss: 0.7191 - val_accuracy: 0.8964\n",
      "Epoch 6/10\n",
      "375/375 [==============================] - 11s 30ms/step - loss: 0.0345 - accuracy: 0.9880 - val_loss: 0.7408 - val_accuracy: 0.8973\n",
      "Epoch 7/10\n",
      "375/375 [==============================] - 11s 31ms/step - loss: 0.0360 - accuracy: 0.9873 - val_loss: 0.8187 - val_accuracy: 0.8956\n",
      "Epoch 8/10\n",
      "375/375 [==============================] - 11s 31ms/step - loss: 0.0404 - accuracy: 0.9860 - val_loss: 0.7790 - val_accuracy: 0.8931\n",
      "Epoch 9/10\n",
      "375/375 [==============================] - 11s 30ms/step - loss: 0.0284 - accuracy: 0.9903 - val_loss: 0.8318 - val_accuracy: 0.8938\n",
      "Epoch 10/10\n",
      "375/375 [==============================] - 11s 31ms/step - loss: 0.0354 - accuracy: 0.9881 - val_loss: 0.8215 - val_accuracy: 0.8966\n"
     ]
    }
   ],
   "source": [
    "history = model.fit(X_train, y_train, batch_size=128, epochs=10, validation_split=0.2)\n",
    "\n",
    "     "
   ]
  },
  {
   "cell_type": "code",
   "execution_count": 35,
   "id": "701ca9fe-3361-44a7-89c4-14976cd5659e",
   "metadata": {},
   "outputs": [
    {
     "name": "stdout",
     "output_type": "stream",
     "text": [
      "313/313 [==============================] - 1s 4ms/step - loss: 0.8943 - accuracy: 0.8966\n",
      "Test Accuracy: 0.8966000080108643\n"
     ]
    }
   ],
   "source": [
    "test_loss, test_accuracy = model.evaluate(X_test, y_test)\n",
    "print(f\"Test Accuracy: {test_accuracy}\")"
   ]
  },
  {
   "cell_type": "code",
   "execution_count": 36,
   "id": "a92edcf6-62f6-4d5a-af58-cc23a957a481",
   "metadata": {},
   "outputs": [
    {
     "data": {
      "image/png": "[encoded data removed]",
      "text/plain": [
       "<Figure size 640x480 with 1 Axes>"
      ]
     },
     "metadata": {},
     "output_type": "display_data"
    }
   ],
   "source": [
    "plt.plot(history.history['accuracy'], label='accuracy')\n",
    "plt.plot(history.history['val_accuracy'], label = 'val_accuracy')\n",
    "plt.xlabel('Epoch')\n",
    "plt.ylabel('Accuracy')\n",
    "plt.legend(loc='lower right')\n",
    "plt.show()"
   ]
  },
  {
   "cell_type": "code",
   "execution_count": null,
   "id": "24cc0cb8-198c-481f-bb0a-dbcee816cd34",
   "metadata": {},
   "outputs": [],
   "source": []
  }
 ],
 "metadata": {
  "kernelspec": {
   "display_name": "Python 3 (ipykernel)",
   "language": "python",
   "name": "python3"
  },
  "language_info": {
   "codemirror_mode": {
    "name": "ipython",
    "version": 3
   },
   "file_extension": ".py",
   "mimetype": "text/x-python",
   "name": "python",
   "nbconvert_exporter": "python",
   "pygments_lexer": "ipython3",
   "version": "3.11.5"
  }
 },
 "nbformat": 4,
 "nbformat_minor": 5
}
